{
 "cells": [
  {
   "cell_type": "markdown",
   "metadata": {},
   "source": [
    "# Introduction\n",
    "The data analysis i am going to do is about the titanic data set which was obtained from(https://www.kaggle.com/c/titanic/data). As we observe the data we can see their is information about demographics and passenger information from 891 of the 2224 passengers and crew on board the Titanic."
   ]
  },
  {
   "cell_type": "markdown",
   "metadata": {},
   "source": [
    "#Questions \n",
    "By obeserving any kind of data i should be able to write question what kind of data can be analysed from the given data set. which was observed in data analysis process lesson.\n",
    "\n",
    "1) which class of people has the highest survival rate?\n",
    "2) was a age one of the factor for survival rate not considering the gender and class?\n",
    "3) which gender has the higher survival rate wheather it is male or female?\n",
    "4) most of the survived people are of which group of age?\n",
    "5) Did embarkation point affect the survival rate?\n",
    "\n"
   ]
  },
  {
   "cell_type": "markdown",
   "metadata": {},
   "source": [
    "DATA Discription\n",
    "1) survival = (yes=1) (no=0)\n",
    "2) p-class = passenger class(1=1st; 2= 2nd 3= 3rd class)\n",
    "3) name = Name \n",
    "4) age = Age \n",
    "5) sibsip = Number siblings/ Spouses aboard\n",
    "6) parch = Number of parents/ children aboard\n",
    "7) ticket - Ticket number\n",
    "8) fare = passenger fare\n",
    "9) cabin : Cabin\n",
    "10) embarked : Port of embarkment (C = Cherbourg , Q = Queenstown, S = Southampton)"
   ]
  },
  {
   "cell_type": "code",
   "execution_count": 73,
   "metadata": {
    "collapsed": true
   },
   "outputs": [],
   "source": [
    "%matplotlib inline \n",
    "\n",
    "#importing libraries\n",
    "\n",
    "import pandas as pd \n",
    "import numpy as np\n",
    "import seaborn as sns \n",
    "import matplotlib.pyplot as plt\n",
    "sns.set_style('whitegrid')\n",
    "%matplotlib inline\n",
    "\n"
   ]
  },
  {
   "cell_type": "code",
   "execution_count": 74,
   "metadata": {},
   "outputs": [
    {
     "data": {
      "text/html": [
       "<div>\n",
       "<style>\n",
       "    .dataframe thead tr:only-child th {\n",
       "        text-align: right;\n",
       "    }\n",
       "\n",
       "    .dataframe thead th {\n",
       "        text-align: left;\n",
       "    }\n",
       "\n",
       "    .dataframe tbody tr th {\n",
       "        vertical-align: top;\n",
       "    }\n",
       "</style>\n",
       "<table border=\"1\" class=\"dataframe\">\n",
       "  <thead>\n",
       "    <tr style=\"text-align: right;\">\n",
       "      <th></th>\n",
       "      <th>PassengerId</th>\n",
       "      <th>Survived</th>\n",
       "      <th>Pclass</th>\n",
       "      <th>Name</th>\n",
       "      <th>Sex</th>\n",
       "      <th>Age</th>\n",
       "      <th>SibSp</th>\n",
       "      <th>Parch</th>\n",
       "      <th>Ticket</th>\n",
       "      <th>Fare</th>\n",
       "      <th>Cabin</th>\n",
       "      <th>Embarked</th>\n",
       "    </tr>\n",
       "  </thead>\n",
       "  <tbody>\n",
       "    <tr>\n",
       "      <th>0</th>\n",
       "      <td>1</td>\n",
       "      <td>0</td>\n",
       "      <td>3</td>\n",
       "      <td>Braund, Mr. Owen Harris</td>\n",
       "      <td>male</td>\n",
       "      <td>22.0</td>\n",
       "      <td>1</td>\n",
       "      <td>0</td>\n",
       "      <td>A/5 21171</td>\n",
       "      <td>7.2500</td>\n",
       "      <td>NaN</td>\n",
       "      <td>S</td>\n",
       "    </tr>\n",
       "    <tr>\n",
       "      <th>1</th>\n",
       "      <td>2</td>\n",
       "      <td>1</td>\n",
       "      <td>1</td>\n",
       "      <td>Cumings, Mrs. John Bradley (Florence Briggs Th...</td>\n",
       "      <td>female</td>\n",
       "      <td>38.0</td>\n",
       "      <td>1</td>\n",
       "      <td>0</td>\n",
       "      <td>PC 17599</td>\n",
       "      <td>71.2833</td>\n",
       "      <td>C85</td>\n",
       "      <td>C</td>\n",
       "    </tr>\n",
       "    <tr>\n",
       "      <th>2</th>\n",
       "      <td>3</td>\n",
       "      <td>1</td>\n",
       "      <td>3</td>\n",
       "      <td>Heikkinen, Miss. Laina</td>\n",
       "      <td>female</td>\n",
       "      <td>26.0</td>\n",
       "      <td>0</td>\n",
       "      <td>0</td>\n",
       "      <td>STON/O2. 3101282</td>\n",
       "      <td>7.9250</td>\n",
       "      <td>NaN</td>\n",
       "      <td>S</td>\n",
       "    </tr>\n",
       "    <tr>\n",
       "      <th>3</th>\n",
       "      <td>4</td>\n",
       "      <td>1</td>\n",
       "      <td>1</td>\n",
       "      <td>Futrelle, Mrs. Jacques Heath (Lily May Peel)</td>\n",
       "      <td>female</td>\n",
       "      <td>35.0</td>\n",
       "      <td>1</td>\n",
       "      <td>0</td>\n",
       "      <td>113803</td>\n",
       "      <td>53.1000</td>\n",
       "      <td>C123</td>\n",
       "      <td>S</td>\n",
       "    </tr>\n",
       "    <tr>\n",
       "      <th>4</th>\n",
       "      <td>5</td>\n",
       "      <td>0</td>\n",
       "      <td>3</td>\n",
       "      <td>Allen, Mr. William Henry</td>\n",
       "      <td>male</td>\n",
       "      <td>35.0</td>\n",
       "      <td>0</td>\n",
       "      <td>0</td>\n",
       "      <td>373450</td>\n",
       "      <td>8.0500</td>\n",
       "      <td>NaN</td>\n",
       "      <td>S</td>\n",
       "    </tr>\n",
       "  </tbody>\n",
       "</table>\n",
       "</div>"
      ],
      "text/plain": [
       "   PassengerId  Survived  Pclass  \\\n",
       "0            1         0       3   \n",
       "1            2         1       1   \n",
       "2            3         1       3   \n",
       "3            4         1       1   \n",
       "4            5         0       3   \n",
       "\n",
       "                                                Name     Sex   Age  SibSp  \\\n",
       "0                            Braund, Mr. Owen Harris    male  22.0      1   \n",
       "1  Cumings, Mrs. John Bradley (Florence Briggs Th...  female  38.0      1   \n",
       "2                             Heikkinen, Miss. Laina  female  26.0      0   \n",
       "3       Futrelle, Mrs. Jacques Heath (Lily May Peel)  female  35.0      1   \n",
       "4                           Allen, Mr. William Henry    male  35.0      0   \n",
       "\n",
       "   Parch            Ticket     Fare Cabin Embarked  \n",
       "0      0         A/5 21171   7.2500   NaN        S  \n",
       "1      0          PC 17599  71.2833   C85        C  \n",
       "2      0  STON/O2. 3101282   7.9250   NaN        S  \n",
       "3      0            113803  53.1000  C123        S  \n",
       "4      0            373450   8.0500   NaN        S  "
      ]
     },
     "execution_count": 74,
     "metadata": {},
     "output_type": "execute_result"
    }
   ],
   "source": [
    "# In this cell i will be loading the ctitanic data wich is in the csv format and print the top 5 rows of the data\n",
    "#inorder to ensure the data is loaded correctly\n",
    "titanic_data = pd.read_csv('titanic_data.csv')\n",
    "titanic_data.head(5)"
   ]
  },
  {
   "cell_type": "code",
   "execution_count": 75,
   "metadata": {},
   "outputs": [
    {
     "data": {
      "text/html": [
       "<div>\n",
       "<style>\n",
       "    .dataframe thead tr:only-child th {\n",
       "        text-align: right;\n",
       "    }\n",
       "\n",
       "    .dataframe thead th {\n",
       "        text-align: left;\n",
       "    }\n",
       "\n",
       "    .dataframe tbody tr th {\n",
       "        vertical-align: top;\n",
       "    }\n",
       "</style>\n",
       "<table border=\"1\" class=\"dataframe\">\n",
       "  <thead>\n",
       "    <tr style=\"text-align: right;\">\n",
       "      <th></th>\n",
       "      <th>PassengerId</th>\n",
       "      <th>Survived</th>\n",
       "      <th>Pclass</th>\n",
       "      <th>Name</th>\n",
       "      <th>Sex</th>\n",
       "      <th>Age</th>\n",
       "      <th>SibSp</th>\n",
       "      <th>Parch</th>\n",
       "      <th>Ticket</th>\n",
       "      <th>Fare</th>\n",
       "      <th>Cabin</th>\n",
       "      <th>Embarked</th>\n",
       "    </tr>\n",
       "  </thead>\n",
       "  <tbody>\n",
       "    <tr>\n",
       "      <th>881</th>\n",
       "      <td>882</td>\n",
       "      <td>0</td>\n",
       "      <td>3</td>\n",
       "      <td>Markun, Mr. Johann</td>\n",
       "      <td>male</td>\n",
       "      <td>33.0</td>\n",
       "      <td>0</td>\n",
       "      <td>0</td>\n",
       "      <td>349257</td>\n",
       "      <td>7.8958</td>\n",
       "      <td>NaN</td>\n",
       "      <td>S</td>\n",
       "    </tr>\n",
       "    <tr>\n",
       "      <th>882</th>\n",
       "      <td>883</td>\n",
       "      <td>0</td>\n",
       "      <td>3</td>\n",
       "      <td>Dahlberg, Miss. Gerda Ulrika</td>\n",
       "      <td>female</td>\n",
       "      <td>22.0</td>\n",
       "      <td>0</td>\n",
       "      <td>0</td>\n",
       "      <td>7552</td>\n",
       "      <td>10.5167</td>\n",
       "      <td>NaN</td>\n",
       "      <td>S</td>\n",
       "    </tr>\n",
       "    <tr>\n",
       "      <th>883</th>\n",
       "      <td>884</td>\n",
       "      <td>0</td>\n",
       "      <td>2</td>\n",
       "      <td>Banfield, Mr. Frederick James</td>\n",
       "      <td>male</td>\n",
       "      <td>28.0</td>\n",
       "      <td>0</td>\n",
       "      <td>0</td>\n",
       "      <td>C.A./SOTON 34068</td>\n",
       "      <td>10.5000</td>\n",
       "      <td>NaN</td>\n",
       "      <td>S</td>\n",
       "    </tr>\n",
       "    <tr>\n",
       "      <th>884</th>\n",
       "      <td>885</td>\n",
       "      <td>0</td>\n",
       "      <td>3</td>\n",
       "      <td>Sutehall, Mr. Henry Jr</td>\n",
       "      <td>male</td>\n",
       "      <td>25.0</td>\n",
       "      <td>0</td>\n",
       "      <td>0</td>\n",
       "      <td>SOTON/OQ 392076</td>\n",
       "      <td>7.0500</td>\n",
       "      <td>NaN</td>\n",
       "      <td>S</td>\n",
       "    </tr>\n",
       "    <tr>\n",
       "      <th>885</th>\n",
       "      <td>886</td>\n",
       "      <td>0</td>\n",
       "      <td>3</td>\n",
       "      <td>Rice, Mrs. William (Margaret Norton)</td>\n",
       "      <td>female</td>\n",
       "      <td>39.0</td>\n",
       "      <td>0</td>\n",
       "      <td>5</td>\n",
       "      <td>382652</td>\n",
       "      <td>29.1250</td>\n",
       "      <td>NaN</td>\n",
       "      <td>Q</td>\n",
       "    </tr>\n",
       "    <tr>\n",
       "      <th>886</th>\n",
       "      <td>887</td>\n",
       "      <td>0</td>\n",
       "      <td>2</td>\n",
       "      <td>Montvila, Rev. Juozas</td>\n",
       "      <td>male</td>\n",
       "      <td>27.0</td>\n",
       "      <td>0</td>\n",
       "      <td>0</td>\n",
       "      <td>211536</td>\n",
       "      <td>13.0000</td>\n",
       "      <td>NaN</td>\n",
       "      <td>S</td>\n",
       "    </tr>\n",
       "    <tr>\n",
       "      <th>887</th>\n",
       "      <td>888</td>\n",
       "      <td>1</td>\n",
       "      <td>1</td>\n",
       "      <td>Graham, Miss. Margaret Edith</td>\n",
       "      <td>female</td>\n",
       "      <td>19.0</td>\n",
       "      <td>0</td>\n",
       "      <td>0</td>\n",
       "      <td>112053</td>\n",
       "      <td>30.0000</td>\n",
       "      <td>B42</td>\n",
       "      <td>S</td>\n",
       "    </tr>\n",
       "    <tr>\n",
       "      <th>888</th>\n",
       "      <td>889</td>\n",
       "      <td>0</td>\n",
       "      <td>3</td>\n",
       "      <td>Johnston, Miss. Catherine Helen \"Carrie\"</td>\n",
       "      <td>female</td>\n",
       "      <td>NaN</td>\n",
       "      <td>1</td>\n",
       "      <td>2</td>\n",
       "      <td>W./C. 6607</td>\n",
       "      <td>23.4500</td>\n",
       "      <td>NaN</td>\n",
       "      <td>S</td>\n",
       "    </tr>\n",
       "    <tr>\n",
       "      <th>889</th>\n",
       "      <td>890</td>\n",
       "      <td>1</td>\n",
       "      <td>1</td>\n",
       "      <td>Behr, Mr. Karl Howell</td>\n",
       "      <td>male</td>\n",
       "      <td>26.0</td>\n",
       "      <td>0</td>\n",
       "      <td>0</td>\n",
       "      <td>111369</td>\n",
       "      <td>30.0000</td>\n",
       "      <td>C148</td>\n",
       "      <td>C</td>\n",
       "    </tr>\n",
       "    <tr>\n",
       "      <th>890</th>\n",
       "      <td>891</td>\n",
       "      <td>0</td>\n",
       "      <td>3</td>\n",
       "      <td>Dooley, Mr. Patrick</td>\n",
       "      <td>male</td>\n",
       "      <td>32.0</td>\n",
       "      <td>0</td>\n",
       "      <td>0</td>\n",
       "      <td>370376</td>\n",
       "      <td>7.7500</td>\n",
       "      <td>NaN</td>\n",
       "      <td>Q</td>\n",
       "    </tr>\n",
       "  </tbody>\n",
       "</table>\n",
       "</div>"
      ],
      "text/plain": [
       "     PassengerId  Survived  Pclass                                      Name  \\\n",
       "881          882         0       3                        Markun, Mr. Johann   \n",
       "882          883         0       3              Dahlberg, Miss. Gerda Ulrika   \n",
       "883          884         0       2             Banfield, Mr. Frederick James   \n",
       "884          885         0       3                    Sutehall, Mr. Henry Jr   \n",
       "885          886         0       3      Rice, Mrs. William (Margaret Norton)   \n",
       "886          887         0       2                     Montvila, Rev. Juozas   \n",
       "887          888         1       1              Graham, Miss. Margaret Edith   \n",
       "888          889         0       3  Johnston, Miss. Catherine Helen \"Carrie\"   \n",
       "889          890         1       1                     Behr, Mr. Karl Howell   \n",
       "890          891         0       3                       Dooley, Mr. Patrick   \n",
       "\n",
       "        Sex   Age  SibSp  Parch            Ticket     Fare Cabin Embarked  \n",
       "881    male  33.0      0      0            349257   7.8958   NaN        S  \n",
       "882  female  22.0      0      0              7552  10.5167   NaN        S  \n",
       "883    male  28.0      0      0  C.A./SOTON 34068  10.5000   NaN        S  \n",
       "884    male  25.0      0      0   SOTON/OQ 392076   7.0500   NaN        S  \n",
       "885  female  39.0      0      5            382652  29.1250   NaN        Q  \n",
       "886    male  27.0      0      0            211536  13.0000   NaN        S  \n",
       "887  female  19.0      0      0            112053  30.0000   B42        S  \n",
       "888  female   NaN      1      2        W./C. 6607  23.4500   NaN        S  \n",
       "889    male  26.0      0      0            111369  30.0000  C148        C  \n",
       "890    male  32.0      0      0            370376   7.7500   NaN        Q  "
      ]
     },
     "execution_count": 75,
     "metadata": {},
     "output_type": "execute_result"
    }
   ],
   "source": [
    "#doublchecking to make sure we have loaded the correct data for that i will be printing the last 10 values\n",
    "titanic_data.tail(10)\n"
   ]
  },
  {
   "cell_type": "markdown",
   "metadata": {},
   "source": [
    "# Exploration of data\n",
    "\n",
    "\n",
    "From the Data Analysis Process i understood that when i see any kind of dataset i need to frame atleast four questions which can be answered by analysing the data set.\n",
    "\n",
    "so from the given titanic data set we can analyse the following questions\n",
    "\n",
    "1) which class of people has the highest survival rate?\n",
    "\n",
    "2) was a age one of the factor for survival rate not considering the gender and class?\n",
    "\n",
    "3) which gender has the higher survival rate wheather it is male or female?\n",
    "\n",
    "4) most of the survived people are of which group of age?\n",
    "\n",
    "5) Did embarkation point affect the survival rate?\n",
    "\n",
    "\n"
   ]
  },
  {
   "cell_type": "markdown",
   "metadata": {},
   "source": [
    "# Cleaning of data\n",
    "\n",
    "1) duplicate values should be removed\n",
    "\n",
    "2) removing of unwanted data which is not used for the analysis\n",
    "\n",
    "3) fixing the missing values"
   ]
  },
  {
   "cell_type": "code",
   "execution_count": 76,
   "metadata": {},
   "outputs": [
    {
     "name": "stdout",
     "output_type": "stream",
     "text": [
      "count of the duplicates are 0\n"
     ]
    }
   ],
   "source": [
    "#removing duplicate values\n",
    "titanic_data_duplicates = titanic_data.duplicated()\n",
    "print 'count of the duplicates are {}'.format(titanic_data_duplicates.sum())"
   ]
  },
  {
   "cell_type": "code",
   "execution_count": 77,
   "metadata": {},
   "outputs": [
    {
     "data": {
      "text/html": [
       "<div>\n",
       "<style>\n",
       "    .dataframe thead tr:only-child th {\n",
       "        text-align: right;\n",
       "    }\n",
       "\n",
       "    .dataframe thead th {\n",
       "        text-align: left;\n",
       "    }\n",
       "\n",
       "    .dataframe tbody tr th {\n",
       "        vertical-align: top;\n",
       "    }\n",
       "</style>\n",
       "<table border=\"1\" class=\"dataframe\">\n",
       "  <thead>\n",
       "    <tr style=\"text-align: right;\">\n",
       "      <th></th>\n",
       "      <th>PassengerId</th>\n",
       "      <th>Survived</th>\n",
       "      <th>Pclass</th>\n",
       "      <th>Sex</th>\n",
       "      <th>Age</th>\n",
       "      <th>SibSp</th>\n",
       "      <th>Parch</th>\n",
       "      <th>Embarked</th>\n",
       "    </tr>\n",
       "  </thead>\n",
       "  <tbody>\n",
       "    <tr>\n",
       "      <th>0</th>\n",
       "      <td>1</td>\n",
       "      <td>0</td>\n",
       "      <td>3</td>\n",
       "      <td>male</td>\n",
       "      <td>22.0</td>\n",
       "      <td>1</td>\n",
       "      <td>0</td>\n",
       "      <td>S</td>\n",
       "    </tr>\n",
       "    <tr>\n",
       "      <th>1</th>\n",
       "      <td>2</td>\n",
       "      <td>1</td>\n",
       "      <td>1</td>\n",
       "      <td>female</td>\n",
       "      <td>38.0</td>\n",
       "      <td>1</td>\n",
       "      <td>0</td>\n",
       "      <td>C</td>\n",
       "    </tr>\n",
       "    <tr>\n",
       "      <th>2</th>\n",
       "      <td>3</td>\n",
       "      <td>1</td>\n",
       "      <td>3</td>\n",
       "      <td>female</td>\n",
       "      <td>26.0</td>\n",
       "      <td>0</td>\n",
       "      <td>0</td>\n",
       "      <td>S</td>\n",
       "    </tr>\n",
       "    <tr>\n",
       "      <th>3</th>\n",
       "      <td>4</td>\n",
       "      <td>1</td>\n",
       "      <td>1</td>\n",
       "      <td>female</td>\n",
       "      <td>35.0</td>\n",
       "      <td>1</td>\n",
       "      <td>0</td>\n",
       "      <td>S</td>\n",
       "    </tr>\n",
       "    <tr>\n",
       "      <th>4</th>\n",
       "      <td>5</td>\n",
       "      <td>0</td>\n",
       "      <td>3</td>\n",
       "      <td>male</td>\n",
       "      <td>35.0</td>\n",
       "      <td>0</td>\n",
       "      <td>0</td>\n",
       "      <td>S</td>\n",
       "    </tr>\n",
       "  </tbody>\n",
       "</table>\n",
       "</div>"
      ],
      "text/plain": [
       "   PassengerId  Survived  Pclass     Sex   Age  SibSp  Parch Embarked\n",
       "0            1         0       3    male  22.0      1      0        S\n",
       "1            2         1       1  female  38.0      1      0        C\n",
       "2            3         1       3  female  26.0      0      0        S\n",
       "3            4         1       1  female  35.0      1      0        S\n",
       "4            5         0       3    male  35.0      0      0        S"
      ]
     },
     "execution_count": 77,
     "metadata": {},
     "output_type": "execute_result"
    }
   ],
   "source": [
    "#seperating the required and unwanted data\n",
    "titanic_data_required = titanic_data.drop(['Name','Ticket','Fare','Cabin'], axis=1)\n",
    "titanic_data_required.head()"
   ]
  },
  {
   "cell_type": "code",
   "execution_count": 78,
   "metadata": {},
   "outputs": [
    {
     "data": {
      "text/plain": [
       "PassengerId      0\n",
       "Survived         0\n",
       "Pclass           0\n",
       "Sex              0\n",
       "Age            177\n",
       "SibSp            0\n",
       "Parch            0\n",
       "Embarked         2\n",
       "dtype: int64"
      ]
     },
     "execution_count": 78,
     "metadata": {},
     "output_type": "execute_result"
    }
   ],
   "source": [
    "#counting the missing values\n",
    "titanic_data_required.isnull().sum()"
   ]
  },
  {
   "cell_type": "markdown",
   "metadata": {},
   "source": [
    "# Handling missing values :\n",
    "\n",
    "From the above observation i can say that their are missing values in two categories : that is Age and Embarked\n",
    "\n",
    "For age their are 177 values i am going to populate the missing age values  i will use mean age based on the gender and Pclass. \n"
   ]
  },
  {
   "cell_type": "code",
   "execution_count": 79,
   "metadata": {},
   "outputs": [
    {
     "name": "stdout",
     "output_type": "stream",
     "text": [
      "Number for females and males with age missing are 53 and 124 respectively\n"
     ]
    }
   ],
   "source": [
    "#determining the number of males and females with missing age values\n",
    "missing_age_bool = pd.isnull(titanic_data_required['Age'])\n",
    "missing_age_female = titanic_data_required [missing_age_bool]['Sex'] == 'female'\n",
    "missing_age_male = titanic_data_required[missing_age_bool]['Sex'] == 'male'\n",
    "\n",
    "print 'Number for females and males with age missing are {} and {} respectively'.format(\n",
    "missing_age_female.sum(),missing_age_male.sum())"
   ]
  },
  {
   "cell_type": "code",
   "execution_count": 80,
   "metadata": {},
   "outputs": [],
   "source": [
    "#In this cell i will be calculating the mean age based on Sex and Pclass, \n",
    "\n",
    "missing_ages = titanic_data_required[titanic_data_required['Age'].isnull()]\n",
    "\n",
    "mean_ages = titanic_data_required.groupby(['Sex','Pclass'])['Age'].mean()\n",
    "\n",
    "#Below function helps me to replace the missing age values with mean from the mean ages dataframe\n",
    "def remove_na_ages(row):\n",
    "    \n",
    "    if pd.isnull(row['Age']):\n",
    "        return mean_ages[row['Sex'],row['Pclass']]\n",
    "    else:\n",
    "        return row['Age']\n",
    "\n",
    "titanic_data_required['Age'] =titanic_data_required.apply(remove_na_ages, axis=1)"
   ]
  },
  {
   "cell_type": "code",
   "execution_count": 81,
   "metadata": {},
   "outputs": [],
   "source": [
    "#as we observe the above data we see that their are two missing values for the embarked. So in order to fill these \n",
    "#missing values we will be changing these values with the most occurance values  i.e somuthampton as most people are from southamption \n",
    "\n",
    "\n",
    "\n",
    "titanic_data_required['Embarked'].fillna('S',inplace=True)"
   ]
  },
  {
   "cell_type": "code",
   "execution_count": 82,
   "metadata": {},
   "outputs": [
    {
     "name": "stdout",
     "output_type": "stream",
     "text": [
      "<class 'pandas.core.frame.DataFrame'>\n",
      "RangeIndex: 891 entries, 0 to 890\n",
      "Data columns (total 8 columns):\n",
      "PassengerId    891 non-null int64\n",
      "Survived       891 non-null int64\n",
      "Pclass         891 non-null int64\n",
      "Sex            891 non-null object\n",
      "Age            891 non-null float64\n",
      "SibSp          891 non-null int64\n",
      "Parch          891 non-null int64\n",
      "Embarked       891 non-null object\n",
      "dtypes: float64(1), int64(5), object(2)\n",
      "memory usage: 55.8+ KB\n"
     ]
    }
   ],
   "source": [
    "titanic_data_required.info()"
   ]
  },
  {
   "cell_type": "markdown",
   "metadata": {
    "collapsed": true
   },
   "source": [
    "# Data Exploration"
   ]
  },
  {
   "cell_type": "code",
   "execution_count": 83,
   "metadata": {},
   "outputs": [
    {
     "data": {
      "text/html": [
       "<div>\n",
       "<style>\n",
       "    .dataframe thead tr:only-child th {\n",
       "        text-align: right;\n",
       "    }\n",
       "\n",
       "    .dataframe thead th {\n",
       "        text-align: left;\n",
       "    }\n",
       "\n",
       "    .dataframe tbody tr th {\n",
       "        vertical-align: top;\n",
       "    }\n",
       "</style>\n",
       "<table border=\"1\" class=\"dataframe\">\n",
       "  <thead>\n",
       "    <tr style=\"text-align: right;\">\n",
       "      <th></th>\n",
       "      <th>PassengerId</th>\n",
       "      <th>Survived</th>\n",
       "      <th>Pclass</th>\n",
       "      <th>Age</th>\n",
       "      <th>SibSp</th>\n",
       "      <th>Parch</th>\n",
       "    </tr>\n",
       "  </thead>\n",
       "  <tbody>\n",
       "    <tr>\n",
       "      <th>count</th>\n",
       "      <td>891.000000</td>\n",
       "      <td>891.000000</td>\n",
       "      <td>891.000000</td>\n",
       "      <td>891.000000</td>\n",
       "      <td>891.000000</td>\n",
       "      <td>891.000000</td>\n",
       "    </tr>\n",
       "    <tr>\n",
       "      <th>mean</th>\n",
       "      <td>446.000000</td>\n",
       "      <td>0.383838</td>\n",
       "      <td>2.308642</td>\n",
       "      <td>29.318643</td>\n",
       "      <td>0.523008</td>\n",
       "      <td>0.381594</td>\n",
       "    </tr>\n",
       "    <tr>\n",
       "      <th>std</th>\n",
       "      <td>257.353842</td>\n",
       "      <td>0.486592</td>\n",
       "      <td>0.836071</td>\n",
       "      <td>13.281103</td>\n",
       "      <td>1.102743</td>\n",
       "      <td>0.806057</td>\n",
       "    </tr>\n",
       "    <tr>\n",
       "      <th>min</th>\n",
       "      <td>1.000000</td>\n",
       "      <td>0.000000</td>\n",
       "      <td>1.000000</td>\n",
       "      <td>0.420000</td>\n",
       "      <td>0.000000</td>\n",
       "      <td>0.000000</td>\n",
       "    </tr>\n",
       "    <tr>\n",
       "      <th>25%</th>\n",
       "      <td>223.500000</td>\n",
       "      <td>0.000000</td>\n",
       "      <td>2.000000</td>\n",
       "      <td>21.750000</td>\n",
       "      <td>0.000000</td>\n",
       "      <td>0.000000</td>\n",
       "    </tr>\n",
       "    <tr>\n",
       "      <th>50%</th>\n",
       "      <td>446.000000</td>\n",
       "      <td>0.000000</td>\n",
       "      <td>3.000000</td>\n",
       "      <td>26.507589</td>\n",
       "      <td>0.000000</td>\n",
       "      <td>0.000000</td>\n",
       "    </tr>\n",
       "    <tr>\n",
       "      <th>75%</th>\n",
       "      <td>668.500000</td>\n",
       "      <td>1.000000</td>\n",
       "      <td>3.000000</td>\n",
       "      <td>36.000000</td>\n",
       "      <td>1.000000</td>\n",
       "      <td>0.000000</td>\n",
       "    </tr>\n",
       "    <tr>\n",
       "      <th>max</th>\n",
       "      <td>891.000000</td>\n",
       "      <td>1.000000</td>\n",
       "      <td>3.000000</td>\n",
       "      <td>80.000000</td>\n",
       "      <td>8.000000</td>\n",
       "      <td>6.000000</td>\n",
       "    </tr>\n",
       "  </tbody>\n",
       "</table>\n",
       "</div>"
      ],
      "text/plain": [
       "       PassengerId    Survived      Pclass         Age       SibSp       Parch\n",
       "count   891.000000  891.000000  891.000000  891.000000  891.000000  891.000000\n",
       "mean    446.000000    0.383838    2.308642   29.318643    0.523008    0.381594\n",
       "std     257.353842    0.486592    0.836071   13.281103    1.102743    0.806057\n",
       "min       1.000000    0.000000    1.000000    0.420000    0.000000    0.000000\n",
       "25%     223.500000    0.000000    2.000000   21.750000    0.000000    0.000000\n",
       "50%     446.000000    0.000000    3.000000   26.507589    0.000000    0.000000\n",
       "75%     668.500000    1.000000    3.000000   36.000000    1.000000    0.000000\n",
       "max     891.000000    1.000000    3.000000   80.000000    8.000000    6.000000"
      ]
     },
     "execution_count": 83,
     "metadata": {},
     "output_type": "execute_result"
    }
   ],
   "source": [
    "titanic_data_required.describe()"
   ]
  },
  {
   "cell_type": "code",
   "execution_count": 84,
   "metadata": {},
   "outputs": [
    {
     "name": "stdout",
     "output_type": "stream",
     "text": [
      "<class 'pandas.core.frame.DataFrame'>\n",
      "RangeIndex: 891 entries, 0 to 890\n",
      "Data columns (total 8 columns):\n",
      "PassengerId    891 non-null int64\n",
      "Survived       891 non-null int64\n",
      "Pclass         891 non-null int64\n",
      "Sex            891 non-null object\n",
      "Age            891 non-null float64\n",
      "SibSp          891 non-null int64\n",
      "Parch          891 non-null int64\n",
      "Embarked       891 non-null object\n",
      "dtypes: float64(1), int64(5), object(2)\n",
      "memory usage: 55.8+ KB\n"
     ]
    }
   ],
   "source": [
    "#below information is about the data after the data cleaning process is completed\n",
    "titanic_data_required.info()\n"
   ]
  },
  {
   "cell_type": "code",
   "execution_count": 85,
   "metadata": {},
   "outputs": [],
   "source": [
    "#Below is the function in order to find the survival ratio between many values for exmple i will be using this \n",
    "#function to know the survival ratio of men and many more \n",
    "def survival_ratio(df):\n",
    "    survived = df[df['Survived'] == 1]\n",
    "    return [ len(survived), len(df),(float)(len(survived)) / len(df)]"
   ]
  },
  {
   "cell_type": "markdown",
   "metadata": {
    "collapsed": true
   },
   "source": [
    "# Question-1\n",
    "Which class of people has the highest survival?\n"
   ]
  },
  {
   "cell_type": "code",
   "execution_count": 86,
   "metadata": {
    "collapsed": true
   },
   "outputs": [],
   "source": [
    "Pclass_1 = titanic_data_required[titanic_data_required['Pclass'] == 1]\n",
    "Pclass_2 = titanic_data_required[titanic_data_required['Pclass'] == 2]\n",
    "Pclass_3 = titanic_data_required[titanic_data_required['Pclass'] == 3]"
   ]
  },
  {
   "cell_type": "code",
   "execution_count": 87,
   "metadata": {},
   "outputs": [
    {
     "name": "stdout",
     "output_type": "stream",
     "text": [
      "<built-in method format of str object at 0x10faf6ae0>\n"
     ]
    },
    {
     "data": {
      "text/plain": [
       "(216, 184, 491)"
      ]
     },
     "execution_count": 87,
     "metadata": {},
     "output_type": "execute_result"
    }
   ],
   "source": [
    "#In this cell i will be counting number of persons based  on there class in the given titanic data set\n",
    "Pclass_1 = titanic_data_required[titanic_data_required['Pclass'] == 1]\n",
    "Pclass_2 = titanic_data_required[titanic_data_required['Pclass'] == 2]\n",
    "Pclass_3 = titanic_data_required[titanic_data_required['Pclass'] == 3]\n",
    "\n",
    "print 'number of passengers on class_1 = {} /n/ number of passengers on class_2 = {} /n/ number of passengers on class_3'.format\n",
    "(len(Pclass_1),len(Pclass_2), len(Pclass_3)) \n"
   ]
  },
  {
   "cell_type": "code",
   "execution_count": 88,
   "metadata": {},
   "outputs": [
    {
     "name": "stdout",
     "output_type": "stream",
     "text": [
      "891 [342, 891, 0.3838383838383838]\n",
      "216 [136, 216, 0.6296296296296297]\n",
      "184 [87, 184, 0.47282608695652173]\n",
      "491 [119, 491, 0.24236252545824846]\n"
     ]
    }
   ],
   "source": [
    "#By using the above function defined i will be calculating the survival ratio for each class i.e class_1, class_2,\n",
    "#class_3 and total survival ratio.\n",
    "print len(titanic_data), survival_ratio(titanic_data_required)\n",
    "print len(Pclass_1),survival_ratio(Pclass_1)\n",
    "print len(Pclass_2),survival_ratio(Pclass_2)\n",
    "print len(Pclass_3),survival_ratio(Pclass_3)"
   ]
  },
  {
   "cell_type": "markdown",
   "metadata": {},
   "source": [
    "With the above analysis i can clearly say that class one of the major factor in the survival of the people on the titanic. As people on the class_3 has a survival rate of 0.24 which is very less when compared with the people on the class_1 which has about 0.62 "
   ]
  },
  {
   "cell_type": "code",
   "execution_count": 89,
   "metadata": {},
   "outputs": [
    {
     "data": {
      "text/plain": [
       "<matplotlib.text.Text at 0x1146f3e90>"
      ]
     },
     "execution_count": 89,
     "metadata": {},
     "output_type": "execute_result"
    },
    {
     "data": {
      "image/png": "[encoded data removed]",
      "text/plain": [
       "<matplotlib.figure.Figure at 0x11464eb90>"
      ]
     },
     "metadata": {},
     "output_type": "display_data"
    }
   ],
   "source": [
    "#with the below code i will be drawing a bar graph in order to compare which class has the highest survival\n",
    "plt.figure()\n",
    "titanic_data_required.groupby('Pclass')['PassengerId'].count().plot(kind= 'bar')\n",
    "plt.xticks([0,1,2], [\"Upper\", \"Middle\",\"Lower\" ])\n",
    "\n",
    "plt.xlabel('Pclass')    #x-axis is the class\n",
    "plt.ylabel('Frequency') #y-axis is frquency\n",
    "plt.title('Pclass Bar plot')\n"
   ]
  },
  {
   "cell_type": "markdown",
   "metadata": {},
   "source": [
    "As we observe the above bar-graph we can say that upper class people survived the most out of lower and middle class. So class is one of the factor for the survival rate."
   ]
  },
  {
   "cell_type": "markdown",
   "metadata": {},
   "source": [
    "# Question-2\n",
    "\n",
    "Was a age one of the factor for the survival regarless of class and gender?\n",
    "\n"
   ]
  },
  {
   "cell_type": "code",
   "execution_count": 90,
   "metadata": {
    "collapsed": true
   },
   "outputs": [],
   "source": [
    "#we will be dropping the NaN values in the age \n",
    "titanic_data_age_cleaned = titanic_data_required.dropna()"
   ]
  },
  {
   "cell_type": "code",
   "execution_count": 91,
   "metadata": {
    "collapsed": true
   },
   "outputs": [],
   "source": [
    "#In this cell we will be determing the number of people survived and didn't\n",
    "number_survived = titanic_data_age_cleaned[titanic_data_age_cleaned ['Survived'] == True]['Survived'].count()\n",
    "number_not_survived = titanic_data_age_cleaned[titanic_data_age_cleaned ['Survived'] == False]['Survived'].count()"
   ]
  },
  {
   "cell_type": "code",
   "execution_count": 92,
   "metadata": {
    "collapsed": true
   },
   "outputs": [],
   "source": [
    "#In this cell we will be determining the mean of survived and the people didn't\n",
    "\n",
    "mean_age_survived = titanic_data_age_cleaned[titanic_data_age_cleaned ['Survived'] == True]['Age'].mean()\n",
    "\n",
    "mean_age_not_survived = titanic_data_age_cleaned[titanic_data_age_cleaned ['Survived'] == False]['Age'].mean()"
   ]
  },
  {
   "cell_type": "code",
   "execution_count": 93,
   "metadata": {},
   "outputs": [
    {
     "name": "stdout",
     "output_type": "stream",
     "text": [
      "Total number of survivors 342 \n",
      "Total number of non survivors 549 \n",
      "Mean age of survivors 28.0 \n",
      "Mean age of non survivors 30.0 \n"
     ]
    },
    {
     "data": {
      "text/plain": [
       "<matplotlib.text.Text at 0x113b23950>"
      ]
     },
     "execution_count": 93,
     "metadata": {},
     "output_type": "execute_result"
    },
    {
     "data": {
      "image/png": "[encoded data removed]",
      "text/plain": [
       "<matplotlib.figure.Figure at 0x114504890>"
      ]
     },
     "metadata": {},
     "output_type": "display_data"
    }
   ],
   "source": [
    "# Display a few raw totals\n",
    "print 'Total number of survivors {} \\n\\\n",
    "Total number of non survivors {} \\n\\\n",
    "Mean age of survivors {} \\n\\\n",
    "Mean age of non survivors {} ' \\\n",
    ".format(number_survived, number_not_survived, np.round(mean_age_survived), \n",
    "        np.round(mean_age_not_survived))\n",
    "\n",
    "# Graph - Age of passengers across sex of those who survived\n",
    "g = sns.factorplot(x=\"Survived\", y=\"Age\", hue='Sex', data=titanic_data_age_cleaned, kind=\"box\", size=7, aspect=.8)\n",
    "\n",
    "# Fix up the labels\n",
    "(g.set_axis_labels('Suvivors', 'Age of Passengers')\n",
    "    .set_xticklabels([\"False\", \"True\"])\n",
    ")\n",
    "g.fig.suptitle('Age Vs Survivors and Non-surviovors based on Gender)')"
   ]
  },
  {
   "cell_type": "markdown",
   "metadata": {},
   "source": [
    "By obeserving the above graph we can say that Age was not a factor for the survival not considering the Gender and Class. As people who survived and who didnot survived are in the same inline "
   ]
  },
  {
   "cell_type": "markdown",
   "metadata": {},
   "source": [
    "# Question-3\n",
    "\n",
    "Which gender has the highest survival rate?\n"
   ]
  },
  {
   "cell_type": "code",
   "execution_count": 94,
   "metadata": {},
   "outputs": [
    {
     "name": "stdout",
     "output_type": "stream",
     "text": [
      "number of males on the titanic = 577 /n/ number of males on the titanic = 314\n"
     ]
    }
   ],
   "source": [
    "#In this cell i will be counting number of males and females on the titanic data set\n",
    "male_number = titanic_data_required[titanic_data_required ['Sex'] == 'male']\n",
    "female_number = titanic_data_required[titanic_data_required ['Sex'] == 'female']\n",
    "\n",
    "print 'number of males on the titanic = {} /n/ number of males on the titanic = {}' .format(len(male_number),\n",
    "                                                                                            len(female_number)) \n"
   ]
  },
  {
   "cell_type": "code",
   "execution_count": 95,
   "metadata": {},
   "outputs": [
    {
     "name": "stdout",
     "output_type": "stream",
     "text": [
      "891 [342, 891, 0.3838383838383838]\n",
      "577 [109, 577, 0.18890814558058924]\n",
      "314 [233, 314, 0.7420382165605095]\n"
     ]
    }
   ],
   "source": [
    "#By using the above function defined i will be calculating the survival ratio for male, female, total survival ratio.\n",
    "print len(titanic_data), survival_ratio(titanic_data_required)\n",
    "print len(male_number),survival_ratio(male_number)\n",
    "print len(female_number),survival_ratio(female_number)\n",
    "\n"
   ]
  },
  {
   "cell_type": "markdown",
   "metadata": {},
   "source": [
    "Based on the above analysis we can say that gender was a factor for the survival as out of 314 females on titanic 74% was the survival strength but for the males out of 577 male strength only 18% of them survived."
   ]
  },
  {
   "cell_type": "markdown",
   "metadata": {},
   "source": [
    "# Question-4 \n",
    "\n",
    "Most of the survived people are of which age group?\n"
   ]
  },
  {
   "cell_type": "code",
   "execution_count": 96,
   "metadata": {},
   "outputs": [
    {
     "name": "stdout",
     "output_type": "stream",
     "text": [
      "64 115 368 173 107 64\n"
     ]
    }
   ],
   "source": [
    "#In this cell we have categorized the all the people based on their age group into 6 intervels.\n",
    "\n",
    "age_0_to_10 = titanic_data_required[(titanic_data_required['Age'] <=10) & (titanic_data_required['Age'] > 0)]\n",
    "age_11_to_20 = titanic_data_required[(titanic_data_required['Age'] <= 20) & (titanic_data_required['Age'] > 10)]\n",
    "age_21_to_30 = titanic_data_required[(titanic_data_required['Age'] <= 30) & (titanic_data_required['Age'] > 20)]\n",
    "age_31_to_40 = titanic_data_required[(titanic_data_required['Age'] <= 40) & (titanic_data_required['Age'] > 30)]\n",
    "age_41_to_50 = titanic_data_required[(titanic_data_required['Age'] <= 50) & (titanic_data_required['Age'] > 40)]\n",
    "age_above_50 = titanic_data_required[titanic_data_required['Age'] > 50]\n",
    "\n",
    "print len(age_0_to_10), len(age_11_to_20), len(age_21_to_30), len(age_31_to_40), len(age_41_to_50), len(age_above_50)"
   ]
  },
  {
   "cell_type": "code",
   "execution_count": 97,
   "metadata": {},
   "outputs": [
    {
     "name": "stdout",
     "output_type": "stream",
     "text": [
      "[38, 64, 0.59375]\n",
      "[44, 115, 0.3826086956521739]\n",
      "[120, 368, 0.32608695652173914]\n",
      "[80, 173, 0.4624277456647399]\n",
      "[38, 107, 0.35514018691588783]\n",
      "[22, 64, 0.34375]\n"
     ]
    }
   ],
   "source": [
    "#In this cell we will be calculating the survival ratio for each age group which we have categorized in the above cell.\n",
    "print survival_ratio(age_0_to_10)\n",
    "print survival_ratio(age_11_to_20)\n",
    "print survival_ratio(age_21_to_30)\n",
    "print survival_ratio(age_31_to_40)\n",
    "print survival_ratio(age_41_to_50)\n",
    "print survival_ratio(age_above_50)\n"
   ]
  },
  {
   "cell_type": "markdown",
   "metadata": {},
   "source": [
    "Based on the above analysis we can say that out of all age group which we have categorized age 0 to 10 has the highest survival"
   ]
  },
  {
   "cell_type": "code",
   "execution_count": 98,
   "metadata": {},
   "outputs": [
    {
     "data": {
      "text/plain": [
       "<matplotlib.text.Text at 0x114c43850>"
      ]
     },
     "execution_count": 98,
     "metadata": {},
     "output_type": "execute_result"
    },
    {
     "data": {
      "image/png": "[encoded data removed]",
      "text/plain": [
       "<matplotlib.figure.Figure at 0x11484d810>"
      ]
     },
     "metadata": {},
     "output_type": "display_data"
    }
   ],
   "source": [
    "#By using the above analysis i will be representing the above data in a graphical representation in 6 intervals.\n",
    "age_survival_ratio = [survival_ratio(age_0_to_10)[2], survival_ratio(age_11_to_20)[2], \\\n",
    "                      survival_ratio(age_21_to_30)[2],\\\n",
    "                           survival_ratio(age_31_to_40)[2], survival_ratio(age_41_to_50)[2], \\\n",
    "                      survival_ratio(age_above_50)[2]]\n",
    "\n",
    "x = range(6)\n",
    "X_values = ['0-10', '11-20', '21-30', '31-40', '41-50', 'Above 50']\n",
    "plt.xticks(x,X_values)\n",
    "plt.plot(x, age_survival_ratio, 'g')\n",
    "plt.xlabel('Age')\n",
    "plt.ylabel('Survival Ratio')\n",
    "plt.title('Age Survival Ratio')"
   ]
  },
  {
   "cell_type": "markdown",
   "metadata": {},
   "source": [
    "Fom the above graph we can draw the conclusions that :\n",
    "\n",
    "-> age group of 0-10 has sthe highest survival \n",
    "\n",
    "-> 21-30 out of all has the least survival rate\n",
    "\n",
    "-> 31-40 has the second highest survival rate \n",
    "\n",
    "-> After age 40 the survival rate is going in downward direction"
   ]
  },
  {
   "cell_type": "markdown",
   "metadata": {},
   "source": [
    "# Question-5\n",
    "Did embarakation point imapact the survival rate?\n",
    "\n"
   ]
  },
  {
   "cell_type": "code",
   "execution_count": 99,
   "metadata": {
    "collapsed": true
   },
   "outputs": [],
   "source": [
    "# In order to analyze the data based on the embarkation point i need to categorize and count the embarkation point\n",
    "#based on their respective category\n",
    "embarkation_s = titanic_data_required[titanic_data_required['Embarked'] == 'S']\n",
    "embarkation_q = titanic_data_required[titanic_data_required['Embarked'] == 'Q']\n",
    "embarkation_c = titanic_data_required[titanic_data_required['Embarked'] == 'C']\n"
   ]
  },
  {
   "cell_type": "code",
   "execution_count": 100,
   "metadata": {},
   "outputs": [
    {
     "name": "stdout",
     "output_type": "stream",
     "text": [
      "[219, 646, 0.33900928792569657]\n",
      "[30, 77, 0.38961038961038963]\n",
      "[93, 168, 0.5535714285714286]\n"
     ]
    }
   ],
   "source": [
    "#In this cell we will be calculating the survival ratio based on the embarkation point by using the survival ratio \n",
    "#function\n",
    "print survival_ratio(embarkation_s)\n",
    "print survival_ratio(embarkation_q)\n",
    "print survival_ratio(embarkation_c)\n"
   ]
  },
  {
   "cell_type": "code",
   "execution_count": 101,
   "metadata": {},
   "outputs": [
    {
     "data": {
      "text/plain": [
       "<matplotlib.text.Text at 0x114d68350>"
      ]
     },
     "execution_count": 101,
     "metadata": {},
     "output_type": "execute_result"
    },
    {
     "data": {
      "image/png": "[encoded data removed]",
      "text/plain": [
       "<matplotlib.figure.Figure at 0x11464d310>"
      ]
     },
     "metadata": {},
     "output_type": "display_data"
    }
   ],
   "source": [
    "#Based on the above analysis i need to represent the data in graphical representation which makes a  clear understanding\n",
    "#of the analysis\n",
    "embarkation_point_survival_ratio = [survival_ratio(embarkation_s)[2], survival_ratio(embarkation_q)[2], \\\n",
    "                      survival_ratio(embarkation_c)[2]]\n",
    "\n",
    "x = range(3)\n",
    "X_values = ['Southampton', 'Queenstown', 'Cherbourg']\n",
    "plt.xticks(x,X_values)\n",
    "plt.plot(x, embarkation_point_survival_ratio, 'g')\n",
    "plt.xlabel('Embarked point')\n",
    "plt.ylabel('Survival Ratio')\n",
    "plt.title('Embarked Survival Ratio')"
   ]
  },
  {
   "cell_type": "markdown",
   "metadata": {},
   "source": [
    "From the above graph we can clearly analyze that \n",
    "\n",
    "-> People who embarked at Cherbourng has the survival highest rate\n",
    "\n",
    "->  when compared with People who embarked at queenstown and southampton, people who embarked at queenstown has the higher rate.\n"
   ]
  },
  {
   "cell_type": "markdown",
   "metadata": {},
   "source": [
    "# Conclusion:\n",
    "\n",
    "From the above analysis results i caa say that gender,classs, and embarked point played a major role in the survival of people.I can say that age would be a secondary factor out of all.\n",
    "From the titanic data set i can say that if a peorson is male of age 21-30 and embarked at Southhamton would have the least survival rate. Where as Female person of age 1-10 and embarked at cherbourg point would have the highest survival rate.\n",
    "\n",
    "\n",
    "Missing observations: I could use the fare coloum for my analsis to know whether their were any categories based on that\n",
    "\n",
    "Missing features : The given dataset consists of information related to passengers only. They should have provided the information related to the staff also. In order to maintain such a huge ship they must be atleast 100 people.\n",
    "\n",
    "Missing values : As from the above analysis i can say that their were 177 values missing in the age colomn and 2 values missing in the embarkation point\n",
    "\n",
    "\n"
   ]
  },
  {
   "cell_type": "markdown",
   "metadata": {},
   "source": [
    "# References:\n",
    "\n",
    "https://www.kaggle.com/c/titanic\n",
    "\n",
    "http://pandas.pydata.org/pandas-docs/stable/#\n"
   ]
  }
 ],
 "metadata": {
  "kernelspec": {
   "display_name": "Python 2",
   "language": "python",
   "name": "python2"
  },
  "language_info": {
   "codemirror_mode": {
    "name": "ipython",
    "version": 2
   },
   "file_extension": ".py",
   "mimetype": "text/x-python",
   "name": "python",
   "nbconvert_exporter": "python",
   "pygments_lexer": "ipython2",
   "version": "2.7.13"
  }
 },
 "nbformat": 4,
 "nbformat_minor": 2
}
